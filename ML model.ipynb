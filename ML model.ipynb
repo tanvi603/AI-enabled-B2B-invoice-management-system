{
 "cells": [
  {
   "cell_type": "code",
   "execution_count": 1,
   "id": "943dc452",
   "metadata": {},
   "outputs": [],
   "source": [
    "##Importing all required library\n",
    "import pandas as pd\n",
    "import numpy as np\n",
    "import warnings\n",
    "warnings.filterwarnings(\"ignore\")\n",
    "\n",
    "#importing our csv file\n",
    "dataset = pd.read_csv(r'H2HBABBA2251.csv')\n",
    "\n",
    "#To check if there are any null values\n",
    "dataset.isnull().sum()\n",
    "\n",
    "# since column area_business is null so removing it\n",
    "dataset = dataset.drop(columns = [\"area_business\"])\n",
    "\n",
    "#converting required columns in date time format\n",
    "dataset[\"document_create_date\"]= pd.to_datetime(dataset[\"document_create_date\"],format = \"%Y%m%d\")\n",
    "\n",
    "dataset[\"document_create_date.1\"]= pd.to_datetime(dataset[\"document_create_date.1\"],format = \"%Y%m%d\")\n",
    "\n",
    "dataset[\"due_in_date\"]= pd.to_datetime(dataset[\"due_in_date\"],format = \"%Y%m%d\")\n",
    "\n",
    "dataset[\"baseline_create_date\"]= pd.to_datetime(dataset[\"baseline_create_date\"],format = \"%Y%m%d\")\n",
    "\n",
    "dataset['clear_date']=pd.to_datetime(dataset['clear_date'],format='%Y-%m-%d  %H:%M:%S')\n",
    "\n",
    "#Converting buisness year from float to int\n",
    "dataset['buisness_year'] = dataset['buisness_year'].astype(int)\n",
    "\n",
    "#Drop duplicate values\n",
    "dataset = dataset.drop_duplicates()\n"
   ]
  },
  {
   "cell_type": "code",
   "execution_count": 2,
   "id": "ef0c8f17",
   "metadata": {},
   "outputs": [
    {
     "data": {
      "text/plain": [
       "False"
      ]
     },
     "execution_count": 2,
     "metadata": {},
     "output_type": "execute_result"
    }
   ],
   "source": [
    "#checking if bothe the columns are equal or not\n",
    "dataset['doc_id'].equals(dataset['invoice_id'])"
   ]
  },
  {
   "cell_type": "code",
   "execution_count": 3,
   "id": "40448356",
   "metadata": {},
   "outputs": [
    {
     "data": {
      "text/plain": [
       "business_code                0\n",
       "cust_number                  0\n",
       "name_customer                0\n",
       "clear_date                9706\n",
       "buisness_year                0\n",
       "doc_id                       0\n",
       "posting_date                 0\n",
       "document_create_date         0\n",
       "document_create_date.1       0\n",
       "due_in_date                  0\n",
       "invoice_currency             0\n",
       "document type                0\n",
       "posting_id                   0\n",
       "total_open_amount            0\n",
       "baseline_create_date         0\n",
       "cust_payment_terms           0\n",
       "invoice_id                   4\n",
       "isOpen                       0\n",
       "dtype: int64"
      ]
     },
     "execution_count": 3,
     "metadata": {},
     "output_type": "execute_result"
    }
   ],
   "source": [
    "#Checking null values\n",
    "dataset.isnull().sum()"
   ]
  },
  {
   "cell_type": "code",
   "execution_count": 4,
   "id": "7effc9b1",
   "metadata": {},
   "outputs": [],
   "source": [
    "#Drop null values from invoice id\n",
    "dataset.dropna(subset=['invoice_id'],inplace=True)"
   ]
  },
  {
   "cell_type": "code",
   "execution_count": 5,
   "id": "0f16da6d",
   "metadata": {},
   "outputs": [
    {
     "data": {
      "text/plain": [
       "True"
      ]
     },
     "execution_count": 5,
     "metadata": {},
     "output_type": "execute_result"
    }
   ],
   "source": [
    "#Check if both the columns are equal or not\n",
    "dataset['doc_id'].equals(dataset['invoice_id'])"
   ]
  },
  {
   "cell_type": "code",
   "execution_count": 6,
   "id": "49988282",
   "metadata": {},
   "outputs": [],
   "source": [
    "#Dropping one of the above column because of similar data\n",
    "dataset = dataset.drop(columns = [\"doc_id\"])"
   ]
  },
  {
   "cell_type": "code",
   "execution_count": 7,
   "id": "b883aa66",
   "metadata": {},
   "outputs": [
    {
     "name": "stdout",
     "output_type": "stream",
     "text": [
      "business_code                 6\n",
      "cust_number                1403\n",
      "name_customer              4166\n",
      "clear_date                  400\n",
      "buisness_year                 2\n",
      "posting_date                504\n",
      "document_create_date        506\n",
      "document_create_date.1      504\n",
      "due_in_date                 550\n",
      "invoice_currency              2\n",
      "document type                 1\n",
      "posting_id                    1\n",
      "total_open_amount         44270\n",
      "baseline_create_date        506\n",
      "cust_payment_terms           74\n",
      "invoice_id                48839\n",
      "isOpen                        2\n",
      "dtype: int64\n"
     ]
    }
   ],
   "source": [
    "#Checking unique values\n",
    "n=dataset.nunique(axis=0)\n",
    "print(n)"
   ]
  },
  {
   "cell_type": "code",
   "execution_count": 8,
   "id": "17363363",
   "metadata": {},
   "outputs": [],
   "source": [
    "#Dropping constant value columns\n",
    "dataset = dataset.drop(columns = [\"posting_id\",\"document type\"])"
   ]
  },
  {
   "cell_type": "code",
   "execution_count": 9,
   "id": "e6ea30a6",
   "metadata": {},
   "outputs": [
    {
     "data": {
      "text/html": [
       "<div>\n",
       "<style scoped>\n",
       "    .dataframe tbody tr th:only-of-type {\n",
       "        vertical-align: middle;\n",
       "    }\n",
       "\n",
       "    .dataframe tbody tr th {\n",
       "        vertical-align: top;\n",
       "    }\n",
       "\n",
       "    .dataframe thead th {\n",
       "        text-align: right;\n",
       "    }\n",
       "</style>\n",
       "<table border=\"1\" class=\"dataframe\">\n",
       "  <thead>\n",
       "    <tr style=\"text-align: right;\">\n",
       "      <th></th>\n",
       "      <th>business_code</th>\n",
       "      <th>cust_number</th>\n",
       "      <th>name_customer</th>\n",
       "      <th>clear_date</th>\n",
       "      <th>buisness_year</th>\n",
       "      <th>posting_date</th>\n",
       "      <th>document_create_date</th>\n",
       "      <th>document_create_date.1</th>\n",
       "      <th>due_in_date</th>\n",
       "      <th>invoice_currency</th>\n",
       "      <th>total_open_amount</th>\n",
       "      <th>baseline_create_date</th>\n",
       "      <th>cust_payment_terms</th>\n",
       "      <th>invoice_id</th>\n",
       "      <th>isOpen</th>\n",
       "    </tr>\n",
       "  </thead>\n",
       "  <tbody>\n",
       "    <tr>\n",
       "      <th>25732</th>\n",
       "      <td>U001</td>\n",
       "      <td>0200769623</td>\n",
       "      <td>WAL-MAR</td>\n",
       "      <td>2019-01-09</td>\n",
       "      <td>2019</td>\n",
       "      <td>2018-12-30</td>\n",
       "      <td>2018-12-29</td>\n",
       "      <td>2018-12-30</td>\n",
       "      <td>2019-01-14</td>\n",
       "      <td>USD</td>\n",
       "      <td>17093.74</td>\n",
       "      <td>2018-12-30</td>\n",
       "      <td>NAH4</td>\n",
       "      <td>1.928533e+09</td>\n",
       "      <td>0</td>\n",
       "    </tr>\n",
       "    <tr>\n",
       "      <th>35918</th>\n",
       "      <td>U001</td>\n",
       "      <td>0200769623</td>\n",
       "      <td>WAL-MAR foundation</td>\n",
       "      <td>2019-01-09</td>\n",
       "      <td>2019</td>\n",
       "      <td>2018-12-30</td>\n",
       "      <td>2018-12-29</td>\n",
       "      <td>2018-12-30</td>\n",
       "      <td>2019-01-14</td>\n",
       "      <td>USD</td>\n",
       "      <td>14428.46</td>\n",
       "      <td>2018-12-30</td>\n",
       "      <td>NAH4</td>\n",
       "      <td>1.928541e+09</td>\n",
       "      <td>0</td>\n",
       "    </tr>\n",
       "    <tr>\n",
       "      <th>17290</th>\n",
       "      <td>U001</td>\n",
       "      <td>0200707822</td>\n",
       "      <td>PUBLI us</td>\n",
       "      <td>2019-01-14</td>\n",
       "      <td>2019</td>\n",
       "      <td>2018-12-30</td>\n",
       "      <td>2018-12-30</td>\n",
       "      <td>2018-12-30</td>\n",
       "      <td>2019-01-14</td>\n",
       "      <td>USD</td>\n",
       "      <td>16801.80</td>\n",
       "      <td>2018-12-30</td>\n",
       "      <td>NAA8</td>\n",
       "      <td>1.928542e+09</td>\n",
       "      <td>0</td>\n",
       "    </tr>\n",
       "    <tr>\n",
       "      <th>17429</th>\n",
       "      <td>U001</td>\n",
       "      <td>0200769623</td>\n",
       "      <td>WAL-MAR in</td>\n",
       "      <td>2019-01-10</td>\n",
       "      <td>2019</td>\n",
       "      <td>2018-12-30</td>\n",
       "      <td>2018-12-30</td>\n",
       "      <td>2018-12-30</td>\n",
       "      <td>2019-01-14</td>\n",
       "      <td>USD</td>\n",
       "      <td>38102.65</td>\n",
       "      <td>2018-12-30</td>\n",
       "      <td>NAH4</td>\n",
       "      <td>1.928543e+09</td>\n",
       "      <td>0</td>\n",
       "    </tr>\n",
       "    <tr>\n",
       "      <th>42566</th>\n",
       "      <td>U001</td>\n",
       "      <td>0200799538</td>\n",
       "      <td>UNITE corporation</td>\n",
       "      <td>2019-01-15</td>\n",
       "      <td>2019</td>\n",
       "      <td>2018-12-30</td>\n",
       "      <td>2018-12-30</td>\n",
       "      <td>2018-12-30</td>\n",
       "      <td>2019-01-14</td>\n",
       "      <td>USD</td>\n",
       "      <td>1113.85</td>\n",
       "      <td>2018-12-30</td>\n",
       "      <td>NAA8</td>\n",
       "      <td>1.928541e+09</td>\n",
       "      <td>0</td>\n",
       "    </tr>\n",
       "    <tr>\n",
       "      <th>...</th>\n",
       "      <td>...</td>\n",
       "      <td>...</td>\n",
       "      <td>...</td>\n",
       "      <td>...</td>\n",
       "      <td>...</td>\n",
       "      <td>...</td>\n",
       "      <td>...</td>\n",
       "      <td>...</td>\n",
       "      <td>...</td>\n",
       "      <td>...</td>\n",
       "      <td>...</td>\n",
       "      <td>...</td>\n",
       "      <td>...</td>\n",
       "      <td>...</td>\n",
       "      <td>...</td>\n",
       "    </tr>\n",
       "    <tr>\n",
       "      <th>46674</th>\n",
       "      <td>U001</td>\n",
       "      <td>0200464724</td>\n",
       "      <td>LAND</td>\n",
       "      <td>NaT</td>\n",
       "      <td>2020</td>\n",
       "      <td>2020-05-19</td>\n",
       "      <td>2020-05-19</td>\n",
       "      <td>2020-05-19</td>\n",
       "      <td>2020-05-29</td>\n",
       "      <td>USD</td>\n",
       "      <td>194864.00</td>\n",
       "      <td>2020-05-19</td>\n",
       "      <td>NA10</td>\n",
       "      <td>1.930914e+09</td>\n",
       "      <td>1</td>\n",
       "    </tr>\n",
       "    <tr>\n",
       "      <th>15155</th>\n",
       "      <td>U001</td>\n",
       "      <td>0200769556</td>\n",
       "      <td>SHAM</td>\n",
       "      <td>NaT</td>\n",
       "      <td>2020</td>\n",
       "      <td>2020-05-20</td>\n",
       "      <td>2020-05-19</td>\n",
       "      <td>2020-05-20</td>\n",
       "      <td>2020-06-04</td>\n",
       "      <td>USD</td>\n",
       "      <td>35442.45</td>\n",
       "      <td>2020-05-20</td>\n",
       "      <td>NAA8</td>\n",
       "      <td>1.930915e+09</td>\n",
       "      <td>1</td>\n",
       "    </tr>\n",
       "    <tr>\n",
       "      <th>16607</th>\n",
       "      <td>U001</td>\n",
       "      <td>0200756072</td>\n",
       "      <td>REINHA foundation</td>\n",
       "      <td>NaT</td>\n",
       "      <td>2020</td>\n",
       "      <td>2020-05-21</td>\n",
       "      <td>2020-05-21</td>\n",
       "      <td>2020-05-21</td>\n",
       "      <td>2020-06-20</td>\n",
       "      <td>USD</td>\n",
       "      <td>16.76</td>\n",
       "      <td>2020-05-21</td>\n",
       "      <td>NAD5</td>\n",
       "      <td>1.930927e+09</td>\n",
       "      <td>1</td>\n",
       "    </tr>\n",
       "    <tr>\n",
       "      <th>11652</th>\n",
       "      <td>U001</td>\n",
       "      <td>200956366</td>\n",
       "      <td>RICH systems</td>\n",
       "      <td>NaT</td>\n",
       "      <td>2020</td>\n",
       "      <td>2020-05-21</td>\n",
       "      <td>2020-05-16</td>\n",
       "      <td>2020-05-21</td>\n",
       "      <td>2020-06-05</td>\n",
       "      <td>USD</td>\n",
       "      <td>42360.00</td>\n",
       "      <td>2020-05-21</td>\n",
       "      <td>NAA8</td>\n",
       "      <td>1.930910e+09</td>\n",
       "      <td>1</td>\n",
       "    </tr>\n",
       "    <tr>\n",
       "      <th>32781</th>\n",
       "      <td>U013</td>\n",
       "      <td>0100046469</td>\n",
       "      <td>FRANQUICI</td>\n",
       "      <td>NaT</td>\n",
       "      <td>2020</td>\n",
       "      <td>2020-05-25</td>\n",
       "      <td>2020-05-21</td>\n",
       "      <td>2020-05-25</td>\n",
       "      <td>2020-05-25</td>\n",
       "      <td>USD</td>\n",
       "      <td>13901.00</td>\n",
       "      <td>2020-05-25</td>\n",
       "      <td>NAUP</td>\n",
       "      <td>1.991844e+09</td>\n",
       "      <td>1</td>\n",
       "    </tr>\n",
       "  </tbody>\n",
       "</table>\n",
       "<p>48839 rows × 15 columns</p>\n",
       "</div>"
      ],
      "text/plain": [
       "      business_code cust_number       name_customer clear_date  buisness_year  \\\n",
       "25732          U001  0200769623            WAL-MAR  2019-01-09           2019   \n",
       "35918          U001  0200769623  WAL-MAR foundation 2019-01-09           2019   \n",
       "17290          U001  0200707822            PUBLI us 2019-01-14           2019   \n",
       "17429          U001  0200769623          WAL-MAR in 2019-01-10           2019   \n",
       "42566          U001  0200799538   UNITE corporation 2019-01-15           2019   \n",
       "...             ...         ...                 ...        ...            ...   \n",
       "46674          U001  0200464724               LAND         NaT           2020   \n",
       "15155          U001  0200769556               SHAM         NaT           2020   \n",
       "16607          U001  0200756072   REINHA foundation        NaT           2020   \n",
       "11652          U001   200956366        RICH systems        NaT           2020   \n",
       "32781          U013  0100046469          FRANQUICI         NaT           2020   \n",
       "\n",
       "      posting_date document_create_date document_create_date.1 due_in_date  \\\n",
       "25732   2018-12-30           2018-12-29             2018-12-30  2019-01-14   \n",
       "35918   2018-12-30           2018-12-29             2018-12-30  2019-01-14   \n",
       "17290   2018-12-30           2018-12-30             2018-12-30  2019-01-14   \n",
       "17429   2018-12-30           2018-12-30             2018-12-30  2019-01-14   \n",
       "42566   2018-12-30           2018-12-30             2018-12-30  2019-01-14   \n",
       "...            ...                  ...                    ...         ...   \n",
       "46674   2020-05-19           2020-05-19             2020-05-19  2020-05-29   \n",
       "15155   2020-05-20           2020-05-19             2020-05-20  2020-06-04   \n",
       "16607   2020-05-21           2020-05-21             2020-05-21  2020-06-20   \n",
       "11652   2020-05-21           2020-05-16             2020-05-21  2020-06-05   \n",
       "32781   2020-05-25           2020-05-21             2020-05-25  2020-05-25   \n",
       "\n",
       "      invoice_currency  total_open_amount baseline_create_date  \\\n",
       "25732              USD           17093.74           2018-12-30   \n",
       "35918              USD           14428.46           2018-12-30   \n",
       "17290              USD           16801.80           2018-12-30   \n",
       "17429              USD           38102.65           2018-12-30   \n",
       "42566              USD            1113.85           2018-12-30   \n",
       "...                ...                ...                  ...   \n",
       "46674              USD          194864.00           2020-05-19   \n",
       "15155              USD           35442.45           2020-05-20   \n",
       "16607              USD              16.76           2020-05-21   \n",
       "11652              USD           42360.00           2020-05-21   \n",
       "32781              USD           13901.00           2020-05-25   \n",
       "\n",
       "      cust_payment_terms    invoice_id  isOpen  \n",
       "25732               NAH4  1.928533e+09       0  \n",
       "35918               NAH4  1.928541e+09       0  \n",
       "17290               NAA8  1.928542e+09       0  \n",
       "17429               NAH4  1.928543e+09       0  \n",
       "42566               NAA8  1.928541e+09       0  \n",
       "...                  ...           ...     ...  \n",
       "46674               NA10  1.930914e+09       1  \n",
       "15155               NAA8  1.930915e+09       1  \n",
       "16607               NAD5  1.930927e+09       1  \n",
       "11652               NAA8  1.930910e+09       1  \n",
       "32781               NAUP  1.991844e+09       1  \n",
       "\n",
       "[48839 rows x 15 columns]"
      ]
     },
     "execution_count": 9,
     "metadata": {},
     "output_type": "execute_result"
    }
   ],
   "source": [
    "#Sorting posting date in ascending order\n",
    "dataset=dataset.sort_values(by='posting_date')\n",
    "dataset"
   ]
  },
  {
   "cell_type": "code",
   "execution_count": 10,
   "id": "b88d57b6",
   "metadata": {},
   "outputs": [
    {
     "name": "stdout",
     "output_type": "stream",
     "text": [
      "<class 'pandas.core.frame.DataFrame'>\n",
      "Int64Index: 48839 entries, 25732 to 32781\n",
      "Data columns (total 15 columns):\n",
      " #   Column                  Non-Null Count  Dtype         \n",
      "---  ------                  --------------  -----         \n",
      " 0   business_code           48839 non-null  object        \n",
      " 1   cust_number             48839 non-null  object        \n",
      " 2   name_customer           48839 non-null  object        \n",
      " 3   clear_date              39133 non-null  datetime64[ns]\n",
      " 4   buisness_year           48839 non-null  int32         \n",
      " 5   posting_date            48839 non-null  object        \n",
      " 6   document_create_date    48839 non-null  datetime64[ns]\n",
      " 7   document_create_date.1  48839 non-null  datetime64[ns]\n",
      " 8   due_in_date             48839 non-null  datetime64[ns]\n",
      " 9   invoice_currency        48839 non-null  object        \n",
      " 10  total_open_amount       48839 non-null  float64       \n",
      " 11  baseline_create_date    48839 non-null  datetime64[ns]\n",
      " 12  cust_payment_terms      48839 non-null  object        \n",
      " 13  invoice_id              48839 non-null  float64       \n",
      " 14  isOpen                  48839 non-null  int64         \n",
      "dtypes: datetime64[ns](5), float64(2), int32(1), int64(1), object(6)\n",
      "memory usage: 5.8+ MB\n"
     ]
    }
   ],
   "source": [
    "dataset.info()"
   ]
  },
  {
   "cell_type": "code",
   "execution_count": 11,
   "id": "f518cc58",
   "metadata": {},
   "outputs": [],
   "source": [
    "#Converting object type values to int(encoding)\n",
    "from sklearn.preprocessing import LabelEncoder\n",
    "business_code_encoder=LabelEncoder()\n",
    "business_code_encoder.fit(dataset['business_code'])\n",
    "dataset['business_code_enc']=business_code_encoder.transform(dataset['business_code'])"
   ]
  },
  {
   "cell_type": "code",
   "execution_count": 12,
   "id": "bb365661",
   "metadata": {},
   "outputs": [],
   "source": [
    "cust_number_encoder=LabelEncoder()\n",
    "cust_number_encoder.fit(dataset['cust_number'])\n",
    "dataset['cust_number_enc']=cust_number_encoder.transform(dataset['cust_number'])"
   ]
  },
  {
   "cell_type": "code",
   "execution_count": 13,
   "id": "ec707240",
   "metadata": {},
   "outputs": [],
   "source": [
    "posting_date_encoder=LabelEncoder()\n",
    "posting_date_encoder.fit(dataset['posting_date'])\n",
    "dataset['posting_date_enc']=posting_date_encoder.transform(dataset['posting_date'])"
   ]
  },
  {
   "cell_type": "code",
   "execution_count": 14,
   "id": "d596a4b7",
   "metadata": {},
   "outputs": [],
   "source": [
    "invoice_currency_encoder=LabelEncoder()\n",
    "invoice_currency_encoder.fit(dataset['invoice_currency'])\n",
    "dataset['invoice_currency_enc']=invoice_currency_encoder.transform(dataset['invoice_currency'])"
   ]
  },
  {
   "cell_type": "code",
   "execution_count": 15,
   "id": "80c3c091",
   "metadata": {},
   "outputs": [],
   "source": [
    "cust_payment_terms_encoder=LabelEncoder()\n",
    "cust_payment_terms_encoder.fit(dataset['cust_payment_terms'])\n",
    "dataset['cust_payment_terms_enc']=cust_payment_terms_encoder.transform(dataset['cust_payment_terms'])"
   ]
  },
  {
   "cell_type": "code",
   "execution_count": 16,
   "id": "0f9af44f",
   "metadata": {},
   "outputs": [],
   "source": [
    "#Removing columns that have been encoded \n",
    "dataset = dataset.drop(columns = [\"business_code\",\"cust_number\",\"invoice_currency\",\"posting_date\",\"cust_payment_terms\"])"
   ]
  },
  {
   "cell_type": "code",
   "execution_count": 17,
   "id": "32b3381c",
   "metadata": {},
   "outputs": [
    {
     "data": {
      "text/plain": [
       "0"
      ]
     },
     "execution_count": 17,
     "metadata": {},
     "output_type": "execute_result"
    }
   ],
   "source": [
    "#Checking duplicate values if any\n",
    "dataset.duplicated().sum()"
   ]
  },
  {
   "cell_type": "markdown",
   "id": "55d793bb",
   "metadata": {},
   "source": [
    "# Diving df dataframe into train and test , validation- SLICING"
   ]
  },
  {
   "cell_type": "code",
   "execution_count": 18,
   "id": "bca6c8d0",
   "metadata": {},
   "outputs": [],
   "source": [
    "test=dataset[dataset['clear_date'].isnull()]"
   ]
  },
  {
   "cell_type": "code",
   "execution_count": 19,
   "id": "4c3dab06",
   "metadata": {},
   "outputs": [],
   "source": [
    "train=dataset[dataset['clear_date'].notnull()]\n"
   ]
  },
  {
   "cell_type": "code",
   "execution_count": 20,
   "id": "100d16ff",
   "metadata": {},
   "outputs": [],
   "source": [
    "dataset.to_csv(r'C:\\Users\\Tanvi Ranaut\\Desktop\\H2HBABBA2251.csv')"
   ]
  },
  {
   "cell_type": "code",
   "execution_count": 21,
   "id": "ff6607af",
   "metadata": {},
   "outputs": [
    {
     "data": {
      "text/plain": [
       "name_customer             0\n",
       "clear_date                0\n",
       "buisness_year             0\n",
       "document_create_date      0\n",
       "document_create_date.1    0\n",
       "due_in_date               0\n",
       "total_open_amount         0\n",
       "baseline_create_date      0\n",
       "invoice_id                0\n",
       "isOpen                    0\n",
       "business_code_enc         0\n",
       "cust_number_enc           0\n",
       "posting_date_enc          0\n",
       "invoice_currency_enc      0\n",
       "cust_payment_terms_enc    0\n",
       "delay                     0\n",
       "dtype: int64"
      ]
     },
     "execution_count": 21,
     "metadata": {},
     "output_type": "execute_result"
    }
   ],
   "source": [
    "train['delay']=(train['due_in_date']-train['clear_date']).dt.days.astype('int16')\n",
    "train.isnull().sum()"
   ]
  },
  {
   "cell_type": "code",
   "execution_count": 22,
   "id": "e5e9c908",
   "metadata": {},
   "outputs": [],
   "source": [
    "X=train.drop(['delay'],axis=1)\n",
    "y=train['delay']"
   ]
  },
  {
   "cell_type": "code",
   "execution_count": 23,
   "id": "cf825c6c",
   "metadata": {},
   "outputs": [],
   "source": [
    "from sklearn.model_selection import train_test_split\n",
    "X_train,X_inter_test,y_train,y_inter_test = train_test_split(X,y,test_size=0.3,random_state=0 , shuffle = False)"
   ]
  },
  {
   "cell_type": "code",
   "execution_count": 24,
   "id": "faf5513c",
   "metadata": {},
   "outputs": [],
   "source": [
    "X_val,X_test,y_val,y_test = train_test_split(X_inter_test,y_inter_test,test_size=0.5,random_state=0 , shuffle = False)"
   ]
  },
  {
   "cell_type": "code",
   "execution_count": 25,
   "id": "c1f5e9c6",
   "metadata": {},
   "outputs": [
    {
     "data": {
      "text/plain": [
       "((27393, 15), (5870, 15), (5870, 15))"
      ]
     },
     "execution_count": 25,
     "metadata": {},
     "output_type": "execute_result"
    }
   ],
   "source": [
    "X_train.shape , X_val.shape , X_test.shape"
   ]
  },
  {
   "cell_type": "markdown",
   "id": "37f40c47",
   "metadata": {},
   "source": [
    "# EDA"
   ]
  },
  {
   "cell_type": "code",
   "execution_count": 26,
   "id": "9036b5de",
   "metadata": {},
   "outputs": [
    {
     "data": {
      "text/plain": [
       "<AxesSubplot:xlabel='delay', ylabel='Density'>"
      ]
     },
     "execution_count": 26,
     "metadata": {},
     "output_type": "execute_result"
    },
    {
     "data": {
      "image/png": "[encoded data removed]",
      "text/plain": [
       "<Figure size 432x288 with 1 Axes>"
      ]
     },
     "metadata": {
      "needs_background": "light"
     },
     "output_type": "display_data"
    }
   ],
   "source": [
    "import  matplotlib.pyplot as plt\n",
    "import seaborn as sns\n",
    "import sklearn\n",
    "sns.distplot(y_train)\n"
   ]
  },
  {
   "cell_type": "code",
   "execution_count": 27,
   "id": "bd2db908",
   "metadata": {},
   "outputs": [],
   "source": [
    "# distribution -  target column ie. delay\n",
    "# it is right skewed distribution"
   ]
  },
  {
   "cell_type": "code",
   "execution_count": 28,
   "id": "26316207",
   "metadata": {},
   "outputs": [
    {
     "data": {
      "text/html": [
       "<div>\n",
       "<style scoped>\n",
       "    .dataframe tbody tr th:only-of-type {\n",
       "        vertical-align: middle;\n",
       "    }\n",
       "\n",
       "    .dataframe tbody tr th {\n",
       "        vertical-align: top;\n",
       "    }\n",
       "\n",
       "    .dataframe thead th {\n",
       "        text-align: right;\n",
       "    }\n",
       "</style>\n",
       "<table border=\"1\" class=\"dataframe\">\n",
       "  <thead>\n",
       "    <tr style=\"text-align: right;\">\n",
       "      <th></th>\n",
       "      <th>key_0</th>\n",
       "      <th>name_customer</th>\n",
       "      <th>clear_date</th>\n",
       "      <th>buisness_year</th>\n",
       "      <th>document_create_date</th>\n",
       "      <th>document_create_date.1</th>\n",
       "      <th>due_in_date</th>\n",
       "      <th>total_open_amount</th>\n",
       "      <th>baseline_create_date</th>\n",
       "      <th>invoice_id</th>\n",
       "      <th>isOpen</th>\n",
       "      <th>business_code_enc</th>\n",
       "      <th>cust_number_enc</th>\n",
       "      <th>posting_date_enc</th>\n",
       "      <th>invoice_currency_enc</th>\n",
       "      <th>cust_payment_terms_enc</th>\n",
       "      <th>delay</th>\n",
       "    </tr>\n",
       "  </thead>\n",
       "  <tbody>\n",
       "    <tr>\n",
       "      <th>0</th>\n",
       "      <td>25732</td>\n",
       "      <td>WAL-MAR</td>\n",
       "      <td>2019-01-09</td>\n",
       "      <td>2019</td>\n",
       "      <td>2018-12-29</td>\n",
       "      <td>2018-12-30</td>\n",
       "      <td>2019-01-14</td>\n",
       "      <td>17093.74</td>\n",
       "      <td>2018-12-30</td>\n",
       "      <td>1.928533e+09</td>\n",
       "      <td>0</td>\n",
       "      <td>1</td>\n",
       "      <td>878</td>\n",
       "      <td>0</td>\n",
       "      <td>1</td>\n",
       "      <td>38</td>\n",
       "      <td>5</td>\n",
       "    </tr>\n",
       "    <tr>\n",
       "      <th>1</th>\n",
       "      <td>35918</td>\n",
       "      <td>WAL-MAR foundation</td>\n",
       "      <td>2019-01-09</td>\n",
       "      <td>2019</td>\n",
       "      <td>2018-12-29</td>\n",
       "      <td>2018-12-30</td>\n",
       "      <td>2019-01-14</td>\n",
       "      <td>14428.46</td>\n",
       "      <td>2018-12-30</td>\n",
       "      <td>1.928541e+09</td>\n",
       "      <td>0</td>\n",
       "      <td>1</td>\n",
       "      <td>878</td>\n",
       "      <td>0</td>\n",
       "      <td>1</td>\n",
       "      <td>38</td>\n",
       "      <td>5</td>\n",
       "    </tr>\n",
       "    <tr>\n",
       "      <th>2</th>\n",
       "      <td>17290</td>\n",
       "      <td>PUBLI us</td>\n",
       "      <td>2019-01-14</td>\n",
       "      <td>2019</td>\n",
       "      <td>2018-12-30</td>\n",
       "      <td>2018-12-30</td>\n",
       "      <td>2019-01-14</td>\n",
       "      <td>16801.80</td>\n",
       "      <td>2018-12-30</td>\n",
       "      <td>1.928542e+09</td>\n",
       "      <td>0</td>\n",
       "      <td>1</td>\n",
       "      <td>735</td>\n",
       "      <td>0</td>\n",
       "      <td>1</td>\n",
       "      <td>22</td>\n",
       "      <td>0</td>\n",
       "    </tr>\n",
       "    <tr>\n",
       "      <th>3</th>\n",
       "      <td>17429</td>\n",
       "      <td>WAL-MAR in</td>\n",
       "      <td>2019-01-10</td>\n",
       "      <td>2019</td>\n",
       "      <td>2018-12-30</td>\n",
       "      <td>2018-12-30</td>\n",
       "      <td>2019-01-14</td>\n",
       "      <td>38102.65</td>\n",
       "      <td>2018-12-30</td>\n",
       "      <td>1.928543e+09</td>\n",
       "      <td>0</td>\n",
       "      <td>1</td>\n",
       "      <td>878</td>\n",
       "      <td>0</td>\n",
       "      <td>1</td>\n",
       "      <td>38</td>\n",
       "      <td>4</td>\n",
       "    </tr>\n",
       "    <tr>\n",
       "      <th>4</th>\n",
       "      <td>42566</td>\n",
       "      <td>UNITE corporation</td>\n",
       "      <td>2019-01-15</td>\n",
       "      <td>2019</td>\n",
       "      <td>2018-12-30</td>\n",
       "      <td>2018-12-30</td>\n",
       "      <td>2019-01-14</td>\n",
       "      <td>1113.85</td>\n",
       "      <td>2018-12-30</td>\n",
       "      <td>1.928541e+09</td>\n",
       "      <td>0</td>\n",
       "      <td>1</td>\n",
       "      <td>963</td>\n",
       "      <td>0</td>\n",
       "      <td>1</td>\n",
       "      <td>22</td>\n",
       "      <td>-1</td>\n",
       "    </tr>\n",
       "    <tr>\n",
       "      <th>...</th>\n",
       "      <td>...</td>\n",
       "      <td>...</td>\n",
       "      <td>...</td>\n",
       "      <td>...</td>\n",
       "      <td>...</td>\n",
       "      <td>...</td>\n",
       "      <td>...</td>\n",
       "      <td>...</td>\n",
       "      <td>...</td>\n",
       "      <td>...</td>\n",
       "      <td>...</td>\n",
       "      <td>...</td>\n",
       "      <td>...</td>\n",
       "      <td>...</td>\n",
       "      <td>...</td>\n",
       "      <td>...</td>\n",
       "      <td>...</td>\n",
       "    </tr>\n",
       "    <tr>\n",
       "      <th>27388</th>\n",
       "      <td>21862</td>\n",
       "      <td>SYSCO  foundation</td>\n",
       "      <td>2019-10-24</td>\n",
       "      <td>2019</td>\n",
       "      <td>2019-10-06</td>\n",
       "      <td>2019-10-08</td>\n",
       "      <td>2019-10-23</td>\n",
       "      <td>2816.45</td>\n",
       "      <td>2019-10-08</td>\n",
       "      <td>1.929976e+09</td>\n",
       "      <td>0</td>\n",
       "      <td>1</td>\n",
       "      <td>750</td>\n",
       "      <td>282</td>\n",
       "      <td>1</td>\n",
       "      <td>22</td>\n",
       "      <td>-1</td>\n",
       "    </tr>\n",
       "    <tr>\n",
       "      <th>27389</th>\n",
       "      <td>30368</td>\n",
       "      <td>WAL-MAR llc</td>\n",
       "      <td>2019-10-18</td>\n",
       "      <td>2019</td>\n",
       "      <td>2019-10-08</td>\n",
       "      <td>2019-10-08</td>\n",
       "      <td>2019-10-23</td>\n",
       "      <td>50145.27</td>\n",
       "      <td>2019-10-08</td>\n",
       "      <td>1.929983e+09</td>\n",
       "      <td>0</td>\n",
       "      <td>1</td>\n",
       "      <td>878</td>\n",
       "      <td>282</td>\n",
       "      <td>1</td>\n",
       "      <td>38</td>\n",
       "      <td>5</td>\n",
       "    </tr>\n",
       "    <tr>\n",
       "      <th>27390</th>\n",
       "      <td>25482</td>\n",
       "      <td>WAL-MAR associates</td>\n",
       "      <td>2019-10-21</td>\n",
       "      <td>2019</td>\n",
       "      <td>2019-10-08</td>\n",
       "      <td>2019-10-08</td>\n",
       "      <td>2019-10-23</td>\n",
       "      <td>1886.24</td>\n",
       "      <td>2019-10-08</td>\n",
       "      <td>1.929984e+09</td>\n",
       "      <td>0</td>\n",
       "      <td>1</td>\n",
       "      <td>878</td>\n",
       "      <td>282</td>\n",
       "      <td>1</td>\n",
       "      <td>38</td>\n",
       "      <td>2</td>\n",
       "    </tr>\n",
       "    <tr>\n",
       "      <th>27391</th>\n",
       "      <td>42379</td>\n",
       "      <td>BJ'S  co</td>\n",
       "      <td>2019-10-24</td>\n",
       "      <td>2019</td>\n",
       "      <td>2019-10-08</td>\n",
       "      <td>2019-10-08</td>\n",
       "      <td>2019-10-23</td>\n",
       "      <td>429.79</td>\n",
       "      <td>2019-10-08</td>\n",
       "      <td>1.929984e+09</td>\n",
       "      <td>0</td>\n",
       "      <td>1</td>\n",
       "      <td>777</td>\n",
       "      <td>282</td>\n",
       "      <td>1</td>\n",
       "      <td>22</td>\n",
       "      <td>-1</td>\n",
       "    </tr>\n",
       "    <tr>\n",
       "      <th>27392</th>\n",
       "      <td>39230</td>\n",
       "      <td>WEGMAN corporation</td>\n",
       "      <td>2019-10-23</td>\n",
       "      <td>2019</td>\n",
       "      <td>2019-10-09</td>\n",
       "      <td>2019-10-08</td>\n",
       "      <td>2019-10-23</td>\n",
       "      <td>31963.95</td>\n",
       "      <td>2019-10-08</td>\n",
       "      <td>1.929988e+09</td>\n",
       "      <td>0</td>\n",
       "      <td>1</td>\n",
       "      <td>740</td>\n",
       "      <td>282</td>\n",
       "      <td>1</td>\n",
       "      <td>22</td>\n",
       "      <td>0</td>\n",
       "    </tr>\n",
       "  </tbody>\n",
       "</table>\n",
       "<p>27393 rows × 17 columns</p>\n",
       "</div>"
      ],
      "text/plain": [
       "       key_0       name_customer clear_date  buisness_year  \\\n",
       "0      25732            WAL-MAR  2019-01-09           2019   \n",
       "1      35918  WAL-MAR foundation 2019-01-09           2019   \n",
       "2      17290            PUBLI us 2019-01-14           2019   \n",
       "3      17429          WAL-MAR in 2019-01-10           2019   \n",
       "4      42566   UNITE corporation 2019-01-15           2019   \n",
       "...      ...                 ...        ...            ...   \n",
       "27388  21862   SYSCO  foundation 2019-10-24           2019   \n",
       "27389  30368         WAL-MAR llc 2019-10-18           2019   \n",
       "27390  25482  WAL-MAR associates 2019-10-21           2019   \n",
       "27391  42379            BJ'S  co 2019-10-24           2019   \n",
       "27392  39230  WEGMAN corporation 2019-10-23           2019   \n",
       "\n",
       "      document_create_date document_create_date.1 due_in_date  \\\n",
       "0               2018-12-29             2018-12-30  2019-01-14   \n",
       "1               2018-12-29             2018-12-30  2019-01-14   \n",
       "2               2018-12-30             2018-12-30  2019-01-14   \n",
       "3               2018-12-30             2018-12-30  2019-01-14   \n",
       "4               2018-12-30             2018-12-30  2019-01-14   \n",
       "...                    ...                    ...         ...   \n",
       "27388           2019-10-06             2019-10-08  2019-10-23   \n",
       "27389           2019-10-08             2019-10-08  2019-10-23   \n",
       "27390           2019-10-08             2019-10-08  2019-10-23   \n",
       "27391           2019-10-08             2019-10-08  2019-10-23   \n",
       "27392           2019-10-09             2019-10-08  2019-10-23   \n",
       "\n",
       "       total_open_amount baseline_create_date    invoice_id  isOpen  \\\n",
       "0               17093.74           2018-12-30  1.928533e+09       0   \n",
       "1               14428.46           2018-12-30  1.928541e+09       0   \n",
       "2               16801.80           2018-12-30  1.928542e+09       0   \n",
       "3               38102.65           2018-12-30  1.928543e+09       0   \n",
       "4                1113.85           2018-12-30  1.928541e+09       0   \n",
       "...                  ...                  ...           ...     ...   \n",
       "27388            2816.45           2019-10-08  1.929976e+09       0   \n",
       "27389           50145.27           2019-10-08  1.929983e+09       0   \n",
       "27390            1886.24           2019-10-08  1.929984e+09       0   \n",
       "27391             429.79           2019-10-08  1.929984e+09       0   \n",
       "27392           31963.95           2019-10-08  1.929988e+09       0   \n",
       "\n",
       "       business_code_enc  cust_number_enc  posting_date_enc  \\\n",
       "0                      1              878                 0   \n",
       "1                      1              878                 0   \n",
       "2                      1              735                 0   \n",
       "3                      1              878                 0   \n",
       "4                      1              963                 0   \n",
       "...                  ...              ...               ...   \n",
       "27388                  1              750               282   \n",
       "27389                  1              878               282   \n",
       "27390                  1              878               282   \n",
       "27391                  1              777               282   \n",
       "27392                  1              740               282   \n",
       "\n",
       "       invoice_currency_enc  cust_payment_terms_enc  delay  \n",
       "0                         1                      38      5  \n",
       "1                         1                      38      5  \n",
       "2                         1                      22      0  \n",
       "3                         1                      38      4  \n",
       "4                         1                      22     -1  \n",
       "...                     ...                     ...    ...  \n",
       "27388                     1                      22     -1  \n",
       "27389                     1                      38      5  \n",
       "27390                     1                      38      2  \n",
       "27391                     1                      22     -1  \n",
       "27392                     1                      22      0  \n",
       "\n",
       "[27393 rows x 17 columns]"
      ]
     },
     "execution_count": 28,
     "metadata": {},
     "output_type": "execute_result"
    }
   ],
   "source": [
    "X_train.merge(y_train,on = X_train.index)"
   ]
  },
  {
   "cell_type": "code",
   "execution_count": 29,
   "id": "11b292b5",
   "metadata": {},
   "outputs": [
    {
     "data": {
      "text/plain": [
       "<AxesSubplot:xlabel='delay', ylabel='total_open_amount'>"
      ]
     },
     "execution_count": 29,
     "metadata": {},
     "output_type": "execute_result"
    },
    {
     "data": {
      "image/png": "[encoded data removed]",
      "text/plain": [
       "<Figure size 432x288 with 1 Axes>"
      ]
     },
     "metadata": {
      "needs_background": "light"
     },
     "output_type": "display_data"
    }
   ],
   "source": [
    "sns.scatterplot(data=X_train.merge(y_train,on = X_train.index), x=\"delay\", y=\"total_open_amount\")"
   ]
  },
  {
   "cell_type": "code",
   "execution_count": 30,
   "id": "1f8021d9",
   "metadata": {},
   "outputs": [
    {
     "name": "stdout",
     "output_type": "stream",
     "text": [
      "-2.0\n",
      "3.0\n",
      "5.0\n"
     ]
    }
   ],
   "source": [
    "#checking outliers\n",
    "Q1 = train['delay'].quantile(0.25)\n",
    "Q3 = train['delay'].quantile(0.75)\n",
    "print(Q1)\n",
    "print(Q3)\n",
    "IQR = Q3 - Q1\n",
    "print(IQR)\n",
    "train['delay'] = train['delay'][~((train['delay'] < (Q1 - 1.5* IQR)) |(train['delay'] > (Q3 + 1.5 * IQR)))]"
   ]
  },
  {
   "cell_type": "code",
   "execution_count": 31,
   "id": "416c613b",
   "metadata": {},
   "outputs": [],
   "source": [
    "train.dropna(subset=['delay'], inplace = True)"
   ]
  },
  {
   "cell_type": "markdown",
   "id": "46bdbc32",
   "metadata": {},
   "source": [
    "# Feature Engg"
   ]
  },
  {
   "cell_type": "code",
   "execution_count": 32,
   "id": "6fb05cb8",
   "metadata": {},
   "outputs": [
    {
     "data": {
      "text/plain": [
       "name_customer                     object\n",
       "clear_date                datetime64[ns]\n",
       "buisness_year                      int32\n",
       "document_create_date      datetime64[ns]\n",
       "document_create_date.1    datetime64[ns]\n",
       "due_in_date               datetime64[ns]\n",
       "total_open_amount                float64\n",
       "baseline_create_date      datetime64[ns]\n",
       "invoice_id                       float64\n",
       "isOpen                             int64\n",
       "business_code_enc                  int32\n",
       "cust_number_enc                    int32\n",
       "posting_date_enc                   int32\n",
       "invoice_currency_enc               int32\n",
       "cust_payment_terms_enc             int32\n",
       "dtype: object"
      ]
     },
     "execution_count": 32,
     "metadata": {},
     "output_type": "execute_result"
    }
   ],
   "source": [
    "X_train.dtypes"
   ]
  },
  {
   "cell_type": "code",
   "execution_count": 33,
   "id": "dc13ede5",
   "metadata": {},
   "outputs": [],
   "source": [
    "#Removing colums that are not required right now\n",
    "X_train = X_train.drop(columns = [\"clear_date\",\"name_customer\",\"isOpen\",\"document_create_date.1\",\"buisness_year\",\"baseline_create_date\",\"invoice_id\",\"total_open_amount\"])"
   ]
  },
  {
   "cell_type": "code",
   "execution_count": 34,
   "id": "43907063",
   "metadata": {},
   "outputs": [],
   "source": [
    "X_val = X_val.drop(columns = [\"clear_date\",\"name_customer\",\"isOpen\",\"document_create_date.1\",\"buisness_year\",\"baseline_create_date\",\"invoice_id\",\"total_open_amount\"])"
   ]
  },
  {
   "cell_type": "code",
   "execution_count": 35,
   "id": "13463fa8",
   "metadata": {},
   "outputs": [],
   "source": [
    "X_test = X_test.drop(columns = [\"clear_date\",\"name_customer\",\"isOpen\",\"document_create_date.1\",\"buisness_year\",\"baseline_create_date\",\"invoice_id\",\"total_open_amount\"])"
   ]
  },
  {
   "cell_type": "code",
   "execution_count": 36,
   "id": "a7a6e93e",
   "metadata": {},
   "outputs": [
    {
     "data": {
      "text/plain": [
       "document_create_date      datetime64[ns]\n",
       "due_in_date               datetime64[ns]\n",
       "business_code_enc                  int32\n",
       "cust_number_enc                    int32\n",
       "posting_date_enc                   int32\n",
       "invoice_currency_enc               int32\n",
       "cust_payment_terms_enc             int32\n",
       "dtype: object"
      ]
     },
     "execution_count": 36,
     "metadata": {},
     "output_type": "execute_result"
    }
   ],
   "source": [
    "X_train.dtypes"
   ]
  },
  {
   "cell_type": "code",
   "execution_count": 37,
   "id": "19cbedc3",
   "metadata": {},
   "outputs": [
    {
     "data": {
      "text/plain": [
       "document_create_date      datetime64[ns]\n",
       "due_in_date               datetime64[ns]\n",
       "business_code_enc                  int32\n",
       "cust_number_enc                    int32\n",
       "posting_date_enc                   int32\n",
       "invoice_currency_enc               int32\n",
       "cust_payment_terms_enc             int32\n",
       "dtype: object"
      ]
     },
     "execution_count": 37,
     "metadata": {},
     "output_type": "execute_result"
    }
   ],
   "source": [
    "X_test.dtypes"
   ]
  },
  {
   "cell_type": "code",
   "execution_count": 38,
   "id": "4c224db2",
   "metadata": {},
   "outputs": [],
   "source": [
    "# function to delete a column from train , val and test\n",
    "def drop_l_e(col ,traindf = X_train,valdf = X_val,testdf = X_test):\n",
    "    traindf.drop(col, axis =1,inplace=True)\n",
    "    valdf.drop(col,axis=1 , inplace=True)\n",
    "    testdf.drop(col,axis=1 , inplace=True)\n",
    "\n",
    "    return traindf,valdf ,testdf"
   ]
  },
  {
   "cell_type": "code",
   "execution_count": 39,
   "id": "5f64a697",
   "metadata": {},
   "outputs": [],
   "source": [
    "#extract day,month and year\n",
    "X_train['day_of_document_create_date'] = X_train['document_create_date'].dt.day\n",
    "X_train['month_of_document_create_date'] = X_train['document_create_date'].dt.month\n",
    "X_train['year_of_document_create_date'] = X_train['document_create_date'].dt.year\n",
    "\n",
    "X_val['day_of_document_create_date'] = X_val['document_create_date'].dt.day\n",
    "X_val['month_of_document_create_date'] = X_val['document_create_date'].dt.month\n",
    "X_val['year_of_document_create_date'] = X_val['document_create_date'].dt.year\n",
    "\n",
    "\n",
    "X_test['day_of_document_create_date'] = X_test['document_create_date'].dt.day\n",
    "X_test['month_of_document_create_date'] = X_test['document_create_date'].dt.month\n",
    "X_test['year_of_document_create_date'] = X_test['document_create_date'].dt.year"
   ]
  },
  {
   "cell_type": "code",
   "execution_count": 40,
   "id": "57e1a30b",
   "metadata": {},
   "outputs": [],
   "source": [
    "X_train ,X_val, X_test = drop_l_e(['document_create_date'])"
   ]
  },
  {
   "cell_type": "code",
   "execution_count": 41,
   "id": "083393ed",
   "metadata": {},
   "outputs": [],
   "source": [
    "X_train['day_of_due_in_date'] = X_train['due_in_date'].dt.day\n",
    "X_train['month_of_due_in_date'] = X_train['due_in_date'].dt.month\n",
    "X_train['year_of_due_in_date'] = X_train['due_in_date'].dt.year\n",
    "\n",
    "X_val['day_of_due_in_date'] = X_val['due_in_date'].dt.day\n",
    "X_val['month_of_due_in_date'] = X_val['due_in_date'].dt.month\n",
    "X_val['year_of_due_in_date'] = X_val['due_in_date'].dt.year\n",
    "\n",
    "\n",
    "X_test['day_of_due_in_date'] = X_test['due_in_date'].dt.day\n",
    "X_test['month_of_due_in_date'] = X_test['due_in_date'].dt.month\n",
    "X_test['year_of_due_in_date'] = X_test['due_in_date'].dt.year"
   ]
  },
  {
   "cell_type": "code",
   "execution_count": 42,
   "id": "6689c00b",
   "metadata": {},
   "outputs": [],
   "source": [
    "X_train ,X_val, X_test = drop_l_e(['due_in_date'])"
   ]
  },
  {
   "cell_type": "code",
   "execution_count": 43,
   "id": "07ef90bd",
   "metadata": {},
   "outputs": [
    {
     "data": {
      "text/plain": [
       "business_code_enc                int32\n",
       "cust_number_enc                  int32\n",
       "posting_date_enc                 int32\n",
       "invoice_currency_enc             int32\n",
       "cust_payment_terms_enc           int32\n",
       "day_of_document_create_date      int64\n",
       "month_of_document_create_date    int64\n",
       "year_of_document_create_date     int64\n",
       "day_of_due_in_date               int64\n",
       "month_of_due_in_date             int64\n",
       "year_of_due_in_date              int64\n",
       "dtype: object"
      ]
     },
     "execution_count": 43,
     "metadata": {},
     "output_type": "execute_result"
    }
   ],
   "source": [
    "X_train.dtypes"
   ]
  },
  {
   "cell_type": "markdown",
   "id": "0958ca95",
   "metadata": {},
   "source": [
    "# Feature Selection"
   ]
  },
  {
   "cell_type": "code",
   "execution_count": 44,
   "id": "94cc405c",
   "metadata": {},
   "outputs": [
    {
     "data": {
      "text/plain": [
       "<AxesSubplot:title={'center':'Pearson Correlation of Features'}>"
      ]
     },
     "execution_count": 44,
     "metadata": {},
     "output_type": "execute_result"
    },
    {
     "data": {
      "image/png": "[encoded data removed]",
      "text/plain": [
       "<Figure size 2160x2160 with 2 Axes>"
      ]
     },
     "metadata": {
      "needs_background": "light"
     },
     "output_type": "display_data"
    }
   ],
   "source": [
    "#corrmat = X_train.merge(y_train , on = X_train.index).corr()\n",
    "# plt.subplots(figsize=(12,9))\n",
    "# sns.heatmap(corrmat, vmax=0.9, square=True)\n",
    "\n",
    "\n",
    "colormap = plt.cm.RdBu\n",
    "plt.figure(figsize=(30,30))\n",
    "plt.title('Pearson Correlation of Features', y=1.05, size=15)\n",
    "sns.heatmap(X_train.merge(y_train , on = X_train.index ).corr(),linewidths=0.1,vmax=1.0, \n",
    "            square=True, cmap=colormap, linecolor='white', annot=True)"
   ]
  },
  {
   "cell_type": "markdown",
   "id": "9ea9e6e2",
   "metadata": {},
   "source": [
    "# MODELLING"
   ]
  },
  {
   "cell_type": "code",
   "execution_count": 45,
   "id": "c6433d21",
   "metadata": {},
   "outputs": [
    {
     "data": {
      "text/plain": [
       "VarianceThreshold(threshold=0.8)"
      ]
     },
     "execution_count": 45,
     "metadata": {},
     "output_type": "execute_result"
    }
   ],
   "source": [
    "from sklearn.feature_selection import VarianceThreshold\n",
    "sel = VarianceThreshold(0.8)\n",
    "sel.fit(X_train)"
   ]
  },
  {
   "cell_type": "code",
   "execution_count": 46,
   "id": "1a0644b6",
   "metadata": {},
   "outputs": [
    {
     "data": {
      "text/plain": [
       "array([2.86849560e-01, 7.21376004e+04, 6.41074351e+03, 7.34944974e-02,\n",
       "       1.81520494e+02, 7.89641497e+01, 7.13428458e+00, 6.56386805e-03,\n",
       "       7.46678327e+01, 7.18732361e+00, 2.19034060e-04])"
      ]
     },
     "execution_count": 46,
     "metadata": {},
     "output_type": "execute_result"
    }
   ],
   "source": [
    "sel.variances_"
   ]
  },
  {
   "cell_type": "code",
   "execution_count": 47,
   "id": "41aa744c",
   "metadata": {},
   "outputs": [
    {
     "data": {
      "text/plain": [
       "LinearRegression()"
      ]
     },
     "execution_count": 47,
     "metadata": {},
     "output_type": "execute_result"
    }
   ],
   "source": [
    "from sklearn.linear_model import LinearRegression\n",
    "base_model = LinearRegression()\n",
    "base_model.fit(X_train, y_train)"
   ]
  },
  {
   "cell_type": "code",
   "execution_count": 48,
   "id": "64d66748",
   "metadata": {},
   "outputs": [],
   "source": [
    "y_predict = base_model.predict(X_val)"
   ]
  },
  {
   "cell_type": "code",
   "execution_count": 49,
   "id": "238ee129",
   "metadata": {},
   "outputs": [
    {
     "data": {
      "text/plain": [
       "6.95548706042513"
      ]
     },
     "execution_count": 49,
     "metadata": {},
     "output_type": "execute_result"
    }
   ],
   "source": [
    "from sklearn.metrics import mean_squared_error\n",
    "\n",
    "mean_squared_error(y_val, y_predict, squared=False)"
   ]
  },
  {
   "cell_type": "code",
   "execution_count": 50,
   "id": "20a416cf",
   "metadata": {},
   "outputs": [
    {
     "data": {
      "text/html": [
       "<div>\n",
       "<style scoped>\n",
       "    .dataframe tbody tr th:only-of-type {\n",
       "        vertical-align: middle;\n",
       "    }\n",
       "\n",
       "    .dataframe tbody tr th {\n",
       "        vertical-align: top;\n",
       "    }\n",
       "\n",
       "    .dataframe thead th {\n",
       "        text-align: right;\n",
       "    }\n",
       "</style>\n",
       "<table border=\"1\" class=\"dataframe\">\n",
       "  <thead>\n",
       "    <tr style=\"text-align: right;\">\n",
       "      <th></th>\n",
       "      <th>Predicted</th>\n",
       "      <th>Actuals</th>\n",
       "    </tr>\n",
       "  </thead>\n",
       "  <tbody>\n",
       "    <tr>\n",
       "      <th>0</th>\n",
       "      <td>1.068983</td>\n",
       "      <td>-4</td>\n",
       "    </tr>\n",
       "    <tr>\n",
       "      <th>1</th>\n",
       "      <td>-2.173525</td>\n",
       "      <td>2</td>\n",
       "    </tr>\n",
       "    <tr>\n",
       "      <th>2</th>\n",
       "      <td>-6.658465</td>\n",
       "      <td>1</td>\n",
       "    </tr>\n",
       "    <tr>\n",
       "      <th>3</th>\n",
       "      <td>0.330101</td>\n",
       "      <td>5</td>\n",
       "    </tr>\n",
       "    <tr>\n",
       "      <th>4</th>\n",
       "      <td>-0.406082</td>\n",
       "      <td>-1</td>\n",
       "    </tr>\n",
       "    <tr>\n",
       "      <th>...</th>\n",
       "      <td>...</td>\n",
       "      <td>...</td>\n",
       "    </tr>\n",
       "    <tr>\n",
       "      <th>5865</th>\n",
       "      <td>-1.957892</td>\n",
       "      <td>-3</td>\n",
       "    </tr>\n",
       "    <tr>\n",
       "      <th>5866</th>\n",
       "      <td>-2.176508</td>\n",
       "      <td>-1</td>\n",
       "    </tr>\n",
       "    <tr>\n",
       "      <th>5867</th>\n",
       "      <td>0.197726</td>\n",
       "      <td>7</td>\n",
       "    </tr>\n",
       "    <tr>\n",
       "      <th>5868</th>\n",
       "      <td>-4.024397</td>\n",
       "      <td>0</td>\n",
       "    </tr>\n",
       "    <tr>\n",
       "      <th>5869</th>\n",
       "      <td>2.410323</td>\n",
       "      <td>0</td>\n",
       "    </tr>\n",
       "  </tbody>\n",
       "</table>\n",
       "<p>5870 rows × 2 columns</p>\n",
       "</div>"
      ],
      "text/plain": [
       "      Predicted  Actuals\n",
       "0      1.068983       -4\n",
       "1     -2.173525        2\n",
       "2     -6.658465        1\n",
       "3      0.330101        5\n",
       "4     -0.406082       -1\n",
       "...         ...      ...\n",
       "5865  -1.957892       -3\n",
       "5866  -2.176508       -1\n",
       "5867   0.197726        7\n",
       "5868  -4.024397        0\n",
       "5869   2.410323        0\n",
       "\n",
       "[5870 rows x 2 columns]"
      ]
     },
     "execution_count": 50,
     "metadata": {},
     "output_type": "execute_result"
    }
   ],
   "source": [
    "met = pd.DataFrame(zip(y_predict , y_test),columns=['Predicted','Actuals'])\n",
    "\n",
    "#(abs(met.Predicted-met.Actuals)/met.Actuals).mean()\n",
    "met"
   ]
  },
  {
   "cell_type": "code",
   "execution_count": 51,
   "id": "b719275e",
   "metadata": {},
   "outputs": [],
   "source": [
    "from sklearn.tree import DecisionTreeRegressor\n",
    "regressor = DecisionTreeRegressor(random_state=0 , max_depth=5)"
   ]
  },
  {
   "cell_type": "code",
   "execution_count": 52,
   "id": "b02e0ca4",
   "metadata": {},
   "outputs": [
    {
     "data": {
      "text/plain": [
       "DecisionTreeRegressor(max_depth=5, random_state=0)"
      ]
     },
     "execution_count": 52,
     "metadata": {},
     "output_type": "execute_result"
    }
   ],
   "source": [
    "regressor.fit(X_train, y_train)"
   ]
  },
  {
   "cell_type": "code",
   "execution_count": 53,
   "id": "92559d7e",
   "metadata": {},
   "outputs": [],
   "source": [
    "y_predict2 = regressor.predict(X_val)"
   ]
  },
  {
   "cell_type": "code",
   "execution_count": 54,
   "id": "a66681b6",
   "metadata": {},
   "outputs": [
    {
     "data": {
      "text/plain": [
       "5.5452159359616635"
      ]
     },
     "execution_count": 54,
     "metadata": {},
     "output_type": "execute_result"
    }
   ],
   "source": [
    "mean_squared_error(y_val, y_predict2, squared=False)"
   ]
  },
  {
   "cell_type": "code",
   "execution_count": 55,
   "id": "2ee29903",
   "metadata": {},
   "outputs": [
    {
     "data": {
      "text/plain": [
       "name_customer                0\n",
       "clear_date                9706\n",
       "buisness_year                0\n",
       "document_create_date         0\n",
       "document_create_date.1       0\n",
       "due_in_date                  0\n",
       "total_open_amount            0\n",
       "baseline_create_date         0\n",
       "invoice_id                   0\n",
       "isOpen                       0\n",
       "business_code_enc            0\n",
       "cust_number_enc              0\n",
       "posting_date_enc             0\n",
       "invoice_currency_enc         0\n",
       "cust_payment_terms_enc       0\n",
       "dtype: int64"
      ]
     },
     "execution_count": 55,
     "metadata": {},
     "output_type": "execute_result"
    }
   ],
   "source": [
    "test.isna().sum()"
   ]
  },
  {
   "cell_type": "code",
   "execution_count": 56,
   "id": "01ef1239",
   "metadata": {},
   "outputs": [],
   "source": [
    "X_test = test.drop(['clear_date'],axis=1)\n",
    "X_test\n",
    "\n",
    "# ALSO LETS DROP clear_date FROM TEST ITSELF\n",
    "test.drop(['clear_date'], inplace =True,axis=1)"
   ]
  },
  {
   "cell_type": "code",
   "execution_count": 57,
   "id": "a536dff9",
   "metadata": {},
   "outputs": [
    {
     "data": {
      "text/plain": [
       "name_customer                     object\n",
       "buisness_year                      int32\n",
       "document_create_date      datetime64[ns]\n",
       "document_create_date.1    datetime64[ns]\n",
       "due_in_date               datetime64[ns]\n",
       "total_open_amount                float64\n",
       "baseline_create_date      datetime64[ns]\n",
       "invoice_id                       float64\n",
       "isOpen                             int64\n",
       "business_code_enc                  int32\n",
       "cust_number_enc                    int32\n",
       "posting_date_enc                   int32\n",
       "invoice_currency_enc               int32\n",
       "cust_payment_terms_enc             int32\n",
       "dtype: object"
      ]
     },
     "execution_count": 57,
     "metadata": {},
     "output_type": "execute_result"
    }
   ],
   "source": [
    "X_test.dtypes"
   ]
  },
  {
   "cell_type": "code",
   "execution_count": 58,
   "id": "918141fc",
   "metadata": {},
   "outputs": [],
   "source": [
    "X_test = test.drop(columns = [\"name_customer\"])"
   ]
  },
  {
   "cell_type": "code",
   "execution_count": 59,
   "id": "27bbf8ea",
   "metadata": {},
   "outputs": [],
   "source": [
    "#extract day,month and year \n",
    "X_test['day_of_document_create_date'] = X_test['document_create_date'].dt.day\n",
    "X_test['month_of_document_create_date'] =X_test['document_create_date'].dt.month\n",
    "X_test['year_of_document_create_date'] = X_test['document_create_date'].dt.year"
   ]
  },
  {
   "cell_type": "code",
   "execution_count": 60,
   "id": "f100eaef",
   "metadata": {},
   "outputs": [],
   "source": [
    "X_test['day_of_due_in_date'] = X_test['due_in_date'].dt.day\n",
    "X_test['month_of_due_in_date'] =X_test['due_in_date'].dt.month\n",
    "X_test['year_of_due_in_date'] = X_test['due_in_date'].dt.year"
   ]
  },
  {
   "cell_type": "code",
   "execution_count": 61,
   "id": "bd8df56f",
   "metadata": {},
   "outputs": [
    {
     "data": {
      "text/plain": [
       "buisness_year                             int32\n",
       "document_create_date             datetime64[ns]\n",
       "document_create_date.1           datetime64[ns]\n",
       "due_in_date                      datetime64[ns]\n",
       "total_open_amount                       float64\n",
       "baseline_create_date             datetime64[ns]\n",
       "invoice_id                              float64\n",
       "isOpen                                    int64\n",
       "business_code_enc                         int32\n",
       "cust_number_enc                           int32\n",
       "posting_date_enc                          int32\n",
       "invoice_currency_enc                      int32\n",
       "cust_payment_terms_enc                    int32\n",
       "day_of_document_create_date               int64\n",
       "month_of_document_create_date             int64\n",
       "year_of_document_create_date              int64\n",
       "day_of_due_in_date                        int64\n",
       "month_of_due_in_date                      int64\n",
       "year_of_due_in_date                       int64\n",
       "dtype: object"
      ]
     },
     "execution_count": 61,
     "metadata": {},
     "output_type": "execute_result"
    }
   ],
   "source": [
    "X_test.dtypes"
   ]
  },
  {
   "cell_type": "code",
   "execution_count": 62,
   "id": "49b6ade2",
   "metadata": {},
   "outputs": [],
   "source": [
    "X_test = X_test.drop(columns = [\"document_create_date\",\"due_in_date\",\"isOpen\",\"document_create_date.1\",\"buisness_year\",\"baseline_create_date\",\"invoice_id\",\"total_open_amount\"])"
   ]
  },
  {
   "cell_type": "code",
   "execution_count": 63,
   "id": "8b044518",
   "metadata": {},
   "outputs": [
    {
     "name": "stdout",
     "output_type": "stream",
     "text": [
      "<class 'pandas.core.frame.DataFrame'>\n",
      "Int64Index: 27393 entries, 25732 to 39230\n",
      "Data columns (total 11 columns):\n",
      " #   Column                         Non-Null Count  Dtype\n",
      "---  ------                         --------------  -----\n",
      " 0   business_code_enc              27393 non-null  int32\n",
      " 1   cust_number_enc                27393 non-null  int32\n",
      " 2   posting_date_enc               27393 non-null  int32\n",
      " 3   invoice_currency_enc           27393 non-null  int32\n",
      " 4   cust_payment_terms_enc         27393 non-null  int32\n",
      " 5   day_of_document_create_date    27393 non-null  int64\n",
      " 6   month_of_document_create_date  27393 non-null  int64\n",
      " 7   year_of_document_create_date   27393 non-null  int64\n",
      " 8   day_of_due_in_date             27393 non-null  int64\n",
      " 9   month_of_due_in_date           27393 non-null  int64\n",
      " 10  year_of_due_in_date            27393 non-null  int64\n",
      "dtypes: int32(5), int64(6)\n",
      "memory usage: 2.0 MB\n"
     ]
    }
   ],
   "source": [
    "X_train.info()"
   ]
  },
  {
   "cell_type": "code",
   "execution_count": 64,
   "id": "23837fb2",
   "metadata": {},
   "outputs": [
    {
     "name": "stdout",
     "output_type": "stream",
     "text": [
      "<class 'pandas.core.frame.DataFrame'>\n",
      "Int64Index: 9706 entries, 8218 to 32781\n",
      "Data columns (total 11 columns):\n",
      " #   Column                         Non-Null Count  Dtype\n",
      "---  ------                         --------------  -----\n",
      " 0   business_code_enc              9706 non-null   int32\n",
      " 1   cust_number_enc                9706 non-null   int32\n",
      " 2   posting_date_enc               9706 non-null   int32\n",
      " 3   invoice_currency_enc           9706 non-null   int32\n",
      " 4   cust_payment_terms_enc         9706 non-null   int32\n",
      " 5   day_of_document_create_date    9706 non-null   int64\n",
      " 6   month_of_document_create_date  9706 non-null   int64\n",
      " 7   year_of_document_create_date   9706 non-null   int64\n",
      " 8   day_of_due_in_date             9706 non-null   int64\n",
      " 9   month_of_due_in_date           9706 non-null   int64\n",
      " 10  year_of_due_in_date            9706 non-null   int64\n",
      "dtypes: int32(5), int64(6)\n",
      "memory usage: 720.4 KB\n"
     ]
    }
   ],
   "source": [
    "X_test.info()"
   ]
  },
  {
   "cell_type": "code",
   "execution_count": 65,
   "id": "6e726222",
   "metadata": {},
   "outputs": [
    {
     "name": "stdout",
     "output_type": "stream",
     "text": [
      "<class 'pandas.core.frame.DataFrame'>\n",
      "Int64Index: 9706 entries, 8218 to 32781\n",
      "Data columns (total 14 columns):\n",
      " #   Column                  Non-Null Count  Dtype         \n",
      "---  ------                  --------------  -----         \n",
      " 0   name_customer           9706 non-null   object        \n",
      " 1   buisness_year           9706 non-null   int32         \n",
      " 2   document_create_date    9706 non-null   datetime64[ns]\n",
      " 3   document_create_date.1  9706 non-null   datetime64[ns]\n",
      " 4   due_in_date             9706 non-null   datetime64[ns]\n",
      " 5   total_open_amount       9706 non-null   float64       \n",
      " 6   baseline_create_date    9706 non-null   datetime64[ns]\n",
      " 7   invoice_id              9706 non-null   float64       \n",
      " 8   isOpen                  9706 non-null   int64         \n",
      " 9   business_code_enc       9706 non-null   int32         \n",
      " 10  cust_number_enc         9706 non-null   int32         \n",
      " 11  posting_date_enc        9706 non-null   int32         \n",
      " 12  invoice_currency_enc    9706 non-null   int32         \n",
      " 13  cust_payment_terms_enc  9706 non-null   int32         \n",
      "dtypes: datetime64[ns](4), float64(2), int32(6), int64(1), object(1)\n",
      "memory usage: 909.9+ KB\n"
     ]
    }
   ],
   "source": [
    "test.info()"
   ]
  },
  {
   "cell_type": "code",
   "execution_count": 66,
   "id": "f7cf8f63",
   "metadata": {},
   "outputs": [],
   "source": [
    "test = test.drop(columns = [\"name_customer\",\"isOpen\",\"document_create_date.1\",\"buisness_year\",\"baseline_create_date\",\"invoice_id\",\"total_open_amount\"])"
   ]
  },
  {
   "cell_type": "code",
   "execution_count": 67,
   "id": "7657b9e2",
   "metadata": {},
   "outputs": [],
   "source": [
    "#extract day,month and year\n",
    "test['day_of_document_create_date'] = test['document_create_date'].dt.day\n",
    "test['month_of_document_create_date'] = test['document_create_date'].dt.month\n",
    "test['year_of_document_create_date'] = test['document_create_date'].dt.year"
   ]
  },
  {
   "cell_type": "code",
   "execution_count": 68,
   "id": "2bb8372e",
   "metadata": {},
   "outputs": [],
   "source": [
    "test['day_of_due_in_date'] = test['due_in_date'].dt.day\n",
    "test['month_of_due_in_date'] = test['due_in_date'].dt.month\n",
    "test['year_of_due_in_date'] = test['due_in_date'].dt.year\n"
   ]
  },
  {
   "cell_type": "code",
   "execution_count": 69,
   "id": "d9de6fe9",
   "metadata": {},
   "outputs": [
    {
     "name": "stdout",
     "output_type": "stream",
     "text": [
      "<class 'pandas.core.frame.DataFrame'>\n",
      "Int64Index: 27393 entries, 25732 to 39230\n",
      "Data columns (total 11 columns):\n",
      " #   Column                         Non-Null Count  Dtype\n",
      "---  ------                         --------------  -----\n",
      " 0   business_code_enc              27393 non-null  int32\n",
      " 1   cust_number_enc                27393 non-null  int32\n",
      " 2   posting_date_enc               27393 non-null  int32\n",
      " 3   invoice_currency_enc           27393 non-null  int32\n",
      " 4   cust_payment_terms_enc         27393 non-null  int32\n",
      " 5   day_of_document_create_date    27393 non-null  int64\n",
      " 6   month_of_document_create_date  27393 non-null  int64\n",
      " 7   year_of_document_create_date   27393 non-null  int64\n",
      " 8   day_of_due_in_date             27393 non-null  int64\n",
      " 9   month_of_due_in_date           27393 non-null  int64\n",
      " 10  year_of_due_in_date            27393 non-null  int64\n",
      "dtypes: int32(5), int64(6)\n",
      "memory usage: 2.0 MB\n"
     ]
    }
   ],
   "source": [
    "X_train.info()"
   ]
  },
  {
   "cell_type": "code",
   "execution_count": 70,
   "id": "fe8fc94d",
   "metadata": {},
   "outputs": [
    {
     "name": "stdout",
     "output_type": "stream",
     "text": [
      "<class 'pandas.core.frame.DataFrame'>\n",
      "Int64Index: 9706 entries, 8218 to 32781\n",
      "Data columns (total 13 columns):\n",
      " #   Column                         Non-Null Count  Dtype         \n",
      "---  ------                         --------------  -----         \n",
      " 0   document_create_date           9706 non-null   datetime64[ns]\n",
      " 1   due_in_date                    9706 non-null   datetime64[ns]\n",
      " 2   business_code_enc              9706 non-null   int32         \n",
      " 3   cust_number_enc                9706 non-null   int32         \n",
      " 4   posting_date_enc               9706 non-null   int32         \n",
      " 5   invoice_currency_enc           9706 non-null   int32         \n",
      " 6   cust_payment_terms_enc         9706 non-null   int32         \n",
      " 7   day_of_document_create_date    9706 non-null   int64         \n",
      " 8   month_of_document_create_date  9706 non-null   int64         \n",
      " 9   year_of_document_create_date   9706 non-null   int64         \n",
      " 10  day_of_due_in_date             9706 non-null   int64         \n",
      " 11  month_of_due_in_date           9706 non-null   int64         \n",
      " 12  year_of_due_in_date            9706 non-null   int64         \n",
      "dtypes: datetime64[ns](2), int32(5), int64(6)\n",
      "memory usage: 872.0 KB\n"
     ]
    }
   ],
   "source": [
    "test.info()"
   ]
  },
  {
   "cell_type": "code",
   "execution_count": 71,
   "id": "8cbb4348",
   "metadata": {},
   "outputs": [],
   "source": [
    "test = test.drop(columns = [\"document_create_date\",\"due_in_date\"])"
   ]
  },
  {
   "cell_type": "code",
   "execution_count": 72,
   "id": "5193f98f",
   "metadata": {},
   "outputs": [],
   "source": [
    "final_result = regressor.predict(test)"
   ]
  },
  {
   "cell_type": "code",
   "execution_count": 74,
   "id": "119bc9a4",
   "metadata": {},
   "outputs": [],
   "source": [
    "final_result = pd.Series(final_result,name='delay')"
   ]
  },
  {
   "cell_type": "code",
   "execution_count": 75,
   "id": "b216c3e8",
   "metadata": {},
   "outputs": [],
   "source": [
    "dataset.reset_index(drop=True,inplace=True)"
   ]
  },
  {
   "cell_type": "code",
   "execution_count": 76,
   "id": "90ee3bf8",
   "metadata": {},
   "outputs": [
    {
     "data": {
      "text/html": [
       "<div>\n",
       "<style scoped>\n",
       "    .dataframe tbody tr th:only-of-type {\n",
       "        vertical-align: middle;\n",
       "    }\n",
       "\n",
       "    .dataframe tbody tr th {\n",
       "        vertical-align: top;\n",
       "    }\n",
       "\n",
       "    .dataframe thead th {\n",
       "        text-align: right;\n",
       "    }\n",
       "</style>\n",
       "<table border=\"1\" class=\"dataframe\">\n",
       "  <thead>\n",
       "    <tr style=\"text-align: right;\">\n",
       "      <th></th>\n",
       "      <th>key_0</th>\n",
       "      <th>business_code_enc</th>\n",
       "      <th>cust_number_enc</th>\n",
       "      <th>posting_date_enc</th>\n",
       "      <th>invoice_currency_enc</th>\n",
       "      <th>cust_payment_terms_enc</th>\n",
       "      <th>day_of_document_create_date</th>\n",
       "      <th>month_of_document_create_date</th>\n",
       "      <th>year_of_document_create_date</th>\n",
       "      <th>day_of_due_in_date</th>\n",
       "      <th>month_of_due_in_date</th>\n",
       "      <th>year_of_due_in_date</th>\n",
       "      <th>delay</th>\n",
       "    </tr>\n",
       "  </thead>\n",
       "  <tbody>\n",
       "    <tr>\n",
       "      <th>0</th>\n",
       "      <td>8218</td>\n",
       "      <td>1</td>\n",
       "      <td>735</td>\n",
       "      <td>421</td>\n",
       "      <td>1</td>\n",
       "      <td>22</td>\n",
       "      <td>27</td>\n",
       "      <td>2</td>\n",
       "      <td>2020</td>\n",
       "      <td>13</td>\n",
       "      <td>3</td>\n",
       "      <td>2020</td>\n",
       "      <td>-1.130598</td>\n",
       "    </tr>\n",
       "    <tr>\n",
       "      <th>1</th>\n",
       "      <td>41407</td>\n",
       "      <td>1</td>\n",
       "      <td>735</td>\n",
       "      <td>421</td>\n",
       "      <td>1</td>\n",
       "      <td>22</td>\n",
       "      <td>27</td>\n",
       "      <td>2</td>\n",
       "      <td>2020</td>\n",
       "      <td>13</td>\n",
       "      <td>3</td>\n",
       "      <td>2020</td>\n",
       "      <td>-1.130598</td>\n",
       "    </tr>\n",
       "    <tr>\n",
       "      <th>2</th>\n",
       "      <td>44723</td>\n",
       "      <td>1</td>\n",
       "      <td>878</td>\n",
       "      <td>421</td>\n",
       "      <td>1</td>\n",
       "      <td>38</td>\n",
       "      <td>26</td>\n",
       "      <td>2</td>\n",
       "      <td>2020</td>\n",
       "      <td>13</td>\n",
       "      <td>3</td>\n",
       "      <td>2020</td>\n",
       "      <td>1.729214</td>\n",
       "    </tr>\n",
       "    <tr>\n",
       "      <th>3</th>\n",
       "      <td>5186</td>\n",
       "      <td>1</td>\n",
       "      <td>456</td>\n",
       "      <td>421</td>\n",
       "      <td>1</td>\n",
       "      <td>22</td>\n",
       "      <td>25</td>\n",
       "      <td>2</td>\n",
       "      <td>2020</td>\n",
       "      <td>13</td>\n",
       "      <td>3</td>\n",
       "      <td>2020</td>\n",
       "      <td>-1.130598</td>\n",
       "    </tr>\n",
       "    <tr>\n",
       "      <th>4</th>\n",
       "      <td>41378</td>\n",
       "      <td>1</td>\n",
       "      <td>783</td>\n",
       "      <td>421</td>\n",
       "      <td>1</td>\n",
       "      <td>22</td>\n",
       "      <td>26</td>\n",
       "      <td>2</td>\n",
       "      <td>2020</td>\n",
       "      <td>13</td>\n",
       "      <td>3</td>\n",
       "      <td>2020</td>\n",
       "      <td>-1.130598</td>\n",
       "    </tr>\n",
       "    <tr>\n",
       "      <th>...</th>\n",
       "      <td>...</td>\n",
       "      <td>...</td>\n",
       "      <td>...</td>\n",
       "      <td>...</td>\n",
       "      <td>...</td>\n",
       "      <td>...</td>\n",
       "      <td>...</td>\n",
       "      <td>...</td>\n",
       "      <td>...</td>\n",
       "      <td>...</td>\n",
       "      <td>...</td>\n",
       "      <td>...</td>\n",
       "      <td>...</td>\n",
       "    </tr>\n",
       "    <tr>\n",
       "      <th>9701</th>\n",
       "      <td>46674</td>\n",
       "      <td>1</td>\n",
       "      <td>621</td>\n",
       "      <td>500</td>\n",
       "      <td>1</td>\n",
       "      <td>11</td>\n",
       "      <td>19</td>\n",
       "      <td>5</td>\n",
       "      <td>2020</td>\n",
       "      <td>29</td>\n",
       "      <td>5</td>\n",
       "      <td>2020</td>\n",
       "      <td>-10.133676</td>\n",
       "    </tr>\n",
       "    <tr>\n",
       "      <th>9702</th>\n",
       "      <td>15155</td>\n",
       "      <td>1</td>\n",
       "      <td>877</td>\n",
       "      <td>501</td>\n",
       "      <td>1</td>\n",
       "      <td>22</td>\n",
       "      <td>19</td>\n",
       "      <td>5</td>\n",
       "      <td>2020</td>\n",
       "      <td>4</td>\n",
       "      <td>6</td>\n",
       "      <td>2020</td>\n",
       "      <td>-1.130598</td>\n",
       "    </tr>\n",
       "    <tr>\n",
       "      <th>9703</th>\n",
       "      <td>16607</td>\n",
       "      <td>1</td>\n",
       "      <td>849</td>\n",
       "      <td>502</td>\n",
       "      <td>1</td>\n",
       "      <td>34</td>\n",
       "      <td>21</td>\n",
       "      <td>5</td>\n",
       "      <td>2020</td>\n",
       "      <td>20</td>\n",
       "      <td>6</td>\n",
       "      <td>2020</td>\n",
       "      <td>-10.740000</td>\n",
       "    </tr>\n",
       "    <tr>\n",
       "      <th>9704</th>\n",
       "      <td>11652</td>\n",
       "      <td>1</td>\n",
       "      <td>1382</td>\n",
       "      <td>502</td>\n",
       "      <td>1</td>\n",
       "      <td>22</td>\n",
       "      <td>16</td>\n",
       "      <td>5</td>\n",
       "      <td>2020</td>\n",
       "      <td>5</td>\n",
       "      <td>6</td>\n",
       "      <td>2020</td>\n",
       "      <td>-1.130598</td>\n",
       "    </tr>\n",
       "    <tr>\n",
       "      <th>9705</th>\n",
       "      <td>32781</td>\n",
       "      <td>5</td>\n",
       "      <td>219</td>\n",
       "      <td>503</td>\n",
       "      <td>1</td>\n",
       "      <td>55</td>\n",
       "      <td>21</td>\n",
       "      <td>5</td>\n",
       "      <td>2020</td>\n",
       "      <td>25</td>\n",
       "      <td>5</td>\n",
       "      <td>2020</td>\n",
       "      <td>1.729214</td>\n",
       "    </tr>\n",
       "  </tbody>\n",
       "</table>\n",
       "<p>9706 rows × 13 columns</p>\n",
       "</div>"
      ],
      "text/plain": [
       "      key_0  business_code_enc  cust_number_enc  posting_date_enc  \\\n",
       "0      8218                  1              735               421   \n",
       "1     41407                  1              735               421   \n",
       "2     44723                  1              878               421   \n",
       "3      5186                  1              456               421   \n",
       "4     41378                  1              783               421   \n",
       "...     ...                ...              ...               ...   \n",
       "9701  46674                  1              621               500   \n",
       "9702  15155                  1              877               501   \n",
       "9703  16607                  1              849               502   \n",
       "9704  11652                  1             1382               502   \n",
       "9705  32781                  5              219               503   \n",
       "\n",
       "      invoice_currency_enc  cust_payment_terms_enc  \\\n",
       "0                        1                      22   \n",
       "1                        1                      22   \n",
       "2                        1                      38   \n",
       "3                        1                      22   \n",
       "4                        1                      22   \n",
       "...                    ...                     ...   \n",
       "9701                     1                      11   \n",
       "9702                     1                      22   \n",
       "9703                     1                      34   \n",
       "9704                     1                      22   \n",
       "9705                     1                      55   \n",
       "\n",
       "      day_of_document_create_date  month_of_document_create_date  \\\n",
       "0                              27                              2   \n",
       "1                              27                              2   \n",
       "2                              26                              2   \n",
       "3                              25                              2   \n",
       "4                              26                              2   \n",
       "...                           ...                            ...   \n",
       "9701                           19                              5   \n",
       "9702                           19                              5   \n",
       "9703                           21                              5   \n",
       "9704                           16                              5   \n",
       "9705                           21                              5   \n",
       "\n",
       "      year_of_document_create_date  day_of_due_in_date  month_of_due_in_date  \\\n",
       "0                             2020                  13                     3   \n",
       "1                             2020                  13                     3   \n",
       "2                             2020                  13                     3   \n",
       "3                             2020                  13                     3   \n",
       "4                             2020                  13                     3   \n",
       "...                            ...                 ...                   ...   \n",
       "9701                          2020                  29                     5   \n",
       "9702                          2020                   4                     6   \n",
       "9703                          2020                  20                     6   \n",
       "9704                          2020                   5                     6   \n",
       "9705                          2020                  25                     5   \n",
       "\n",
       "      year_of_due_in_date      delay  \n",
       "0                    2020  -1.130598  \n",
       "1                    2020  -1.130598  \n",
       "2                    2020   1.729214  \n",
       "3                    2020  -1.130598  \n",
       "4                    2020  -1.130598  \n",
       "...                   ...        ...  \n",
       "9701                 2020 -10.133676  \n",
       "9702                 2020  -1.130598  \n",
       "9703                 2020 -10.740000  \n",
       "9704                 2020  -1.130598  \n",
       "9705                 2020   1.729214  \n",
       "\n",
       "[9706 rows x 13 columns]"
      ]
     },
     "execution_count": 76,
     "metadata": {},
     "output_type": "execute_result"
    }
   ],
   "source": [
    "Final = test.merge(final_result , on = test.index )\n",
    "Final"
   ]
  },
  {
   "cell_type": "code",
   "execution_count": 77,
   "id": "ae8dfa0a",
   "metadata": {},
   "outputs": [],
   "source": [
    "Final['delay'] = Final['delay'].astype(int)"
   ]
  },
  {
   "cell_type": "code",
   "execution_count": 78,
   "id": "06058e57",
   "metadata": {},
   "outputs": [],
   "source": [
    "Final['Delay']=pd.to_timedelta(Final['delay'], unit='D')"
   ]
  },
  {
   "cell_type": "code",
   "execution_count": 79,
   "id": "48e9ac06",
   "metadata": {},
   "outputs": [],
   "source": [
    "Final['due_in_date'] = pd.to_datetime(dataset['due_in_date'], format='%Y%m%d')"
   ]
  },
  {
   "cell_type": "code",
   "execution_count": 80,
   "id": "54b1703f",
   "metadata": {},
   "outputs": [],
   "source": [
    "Final['predicted_payment_date'] =Final['due_in_date']+Final['Delay']"
   ]
  },
  {
   "cell_type": "code",
   "execution_count": 81,
   "id": "8f1969ae",
   "metadata": {},
   "outputs": [],
   "source": [
    "#bucketing\n",
    "bins=[-1000,0,15,30,45,60,75]\n",
    "group_names=['payment before due date','0-15 Days','16-30 Days','31-45 Days','45-60 Days','>60']\n",
    "Final['Delay_days']=pd.cut(Final['delay'],bins,labels= group_names)"
   ]
  },
  {
   "cell_type": "code",
   "execution_count": null,
   "id": "1fc79053",
   "metadata": {},
   "outputs": [],
   "source": [
    "# End result"
   ]
  },
  {
   "cell_type": "code",
   "execution_count": 82,
   "id": "94a677bf",
   "metadata": {},
   "outputs": [
    {
     "data": {
      "text/html": [
       "<div>\n",
       "<style scoped>\n",
       "    .dataframe tbody tr th:only-of-type {\n",
       "        vertical-align: middle;\n",
       "    }\n",
       "\n",
       "    .dataframe tbody tr th {\n",
       "        vertical-align: top;\n",
       "    }\n",
       "\n",
       "    .dataframe thead th {\n",
       "        text-align: right;\n",
       "    }\n",
       "</style>\n",
       "<table border=\"1\" class=\"dataframe\">\n",
       "  <thead>\n",
       "    <tr style=\"text-align: right;\">\n",
       "      <th></th>\n",
       "      <th>key_0</th>\n",
       "      <th>business_code_enc</th>\n",
       "      <th>cust_number_enc</th>\n",
       "      <th>posting_date_enc</th>\n",
       "      <th>invoice_currency_enc</th>\n",
       "      <th>cust_payment_terms_enc</th>\n",
       "      <th>day_of_document_create_date</th>\n",
       "      <th>month_of_document_create_date</th>\n",
       "      <th>year_of_document_create_date</th>\n",
       "      <th>day_of_due_in_date</th>\n",
       "      <th>month_of_due_in_date</th>\n",
       "      <th>year_of_due_in_date</th>\n",
       "      <th>due_in_date</th>\n",
       "      <th>predicted_payment_date</th>\n",
       "      <th>Delay_days</th>\n",
       "    </tr>\n",
       "  </thead>\n",
       "  <tbody>\n",
       "    <tr>\n",
       "      <th>0</th>\n",
       "      <td>8218</td>\n",
       "      <td>1</td>\n",
       "      <td>735</td>\n",
       "      <td>421</td>\n",
       "      <td>1</td>\n",
       "      <td>22</td>\n",
       "      <td>27</td>\n",
       "      <td>2</td>\n",
       "      <td>2020</td>\n",
       "      <td>13</td>\n",
       "      <td>3</td>\n",
       "      <td>2020</td>\n",
       "      <td>2019-01-14</td>\n",
       "      <td>2019-01-13</td>\n",
       "      <td>payment before due date</td>\n",
       "    </tr>\n",
       "    <tr>\n",
       "      <th>1</th>\n",
       "      <td>41407</td>\n",
       "      <td>1</td>\n",
       "      <td>735</td>\n",
       "      <td>421</td>\n",
       "      <td>1</td>\n",
       "      <td>22</td>\n",
       "      <td>27</td>\n",
       "      <td>2</td>\n",
       "      <td>2020</td>\n",
       "      <td>13</td>\n",
       "      <td>3</td>\n",
       "      <td>2020</td>\n",
       "      <td>2019-01-14</td>\n",
       "      <td>2019-01-13</td>\n",
       "      <td>payment before due date</td>\n",
       "    </tr>\n",
       "    <tr>\n",
       "      <th>2</th>\n",
       "      <td>44723</td>\n",
       "      <td>1</td>\n",
       "      <td>878</td>\n",
       "      <td>421</td>\n",
       "      <td>1</td>\n",
       "      <td>38</td>\n",
       "      <td>26</td>\n",
       "      <td>2</td>\n",
       "      <td>2020</td>\n",
       "      <td>13</td>\n",
       "      <td>3</td>\n",
       "      <td>2020</td>\n",
       "      <td>2019-01-14</td>\n",
       "      <td>2019-01-15</td>\n",
       "      <td>0-15 Days</td>\n",
       "    </tr>\n",
       "    <tr>\n",
       "      <th>3</th>\n",
       "      <td>5186</td>\n",
       "      <td>1</td>\n",
       "      <td>456</td>\n",
       "      <td>421</td>\n",
       "      <td>1</td>\n",
       "      <td>22</td>\n",
       "      <td>25</td>\n",
       "      <td>2</td>\n",
       "      <td>2020</td>\n",
       "      <td>13</td>\n",
       "      <td>3</td>\n",
       "      <td>2020</td>\n",
       "      <td>2019-01-14</td>\n",
       "      <td>2019-01-13</td>\n",
       "      <td>payment before due date</td>\n",
       "    </tr>\n",
       "    <tr>\n",
       "      <th>4</th>\n",
       "      <td>41378</td>\n",
       "      <td>1</td>\n",
       "      <td>783</td>\n",
       "      <td>421</td>\n",
       "      <td>1</td>\n",
       "      <td>22</td>\n",
       "      <td>26</td>\n",
       "      <td>2</td>\n",
       "      <td>2020</td>\n",
       "      <td>13</td>\n",
       "      <td>3</td>\n",
       "      <td>2020</td>\n",
       "      <td>2019-01-14</td>\n",
       "      <td>2019-01-13</td>\n",
       "      <td>payment before due date</td>\n",
       "    </tr>\n",
       "    <tr>\n",
       "      <th>...</th>\n",
       "      <td>...</td>\n",
       "      <td>...</td>\n",
       "      <td>...</td>\n",
       "      <td>...</td>\n",
       "      <td>...</td>\n",
       "      <td>...</td>\n",
       "      <td>...</td>\n",
       "      <td>...</td>\n",
       "      <td>...</td>\n",
       "      <td>...</td>\n",
       "      <td>...</td>\n",
       "      <td>...</td>\n",
       "      <td>...</td>\n",
       "      <td>...</td>\n",
       "      <td>...</td>\n",
       "    </tr>\n",
       "    <tr>\n",
       "      <th>9701</th>\n",
       "      <td>46674</td>\n",
       "      <td>1</td>\n",
       "      <td>621</td>\n",
       "      <td>500</td>\n",
       "      <td>1</td>\n",
       "      <td>11</td>\n",
       "      <td>19</td>\n",
       "      <td>5</td>\n",
       "      <td>2020</td>\n",
       "      <td>29</td>\n",
       "      <td>5</td>\n",
       "      <td>2020</td>\n",
       "      <td>2019-04-25</td>\n",
       "      <td>2019-04-15</td>\n",
       "      <td>payment before due date</td>\n",
       "    </tr>\n",
       "    <tr>\n",
       "      <th>9702</th>\n",
       "      <td>15155</td>\n",
       "      <td>1</td>\n",
       "      <td>877</td>\n",
       "      <td>501</td>\n",
       "      <td>1</td>\n",
       "      <td>22</td>\n",
       "      <td>19</td>\n",
       "      <td>5</td>\n",
       "      <td>2020</td>\n",
       "      <td>4</td>\n",
       "      <td>6</td>\n",
       "      <td>2020</td>\n",
       "      <td>2019-04-25</td>\n",
       "      <td>2019-04-24</td>\n",
       "      <td>payment before due date</td>\n",
       "    </tr>\n",
       "    <tr>\n",
       "      <th>9703</th>\n",
       "      <td>16607</td>\n",
       "      <td>1</td>\n",
       "      <td>849</td>\n",
       "      <td>502</td>\n",
       "      <td>1</td>\n",
       "      <td>34</td>\n",
       "      <td>21</td>\n",
       "      <td>5</td>\n",
       "      <td>2020</td>\n",
       "      <td>20</td>\n",
       "      <td>6</td>\n",
       "      <td>2020</td>\n",
       "      <td>2019-05-11</td>\n",
       "      <td>2019-05-01</td>\n",
       "      <td>payment before due date</td>\n",
       "    </tr>\n",
       "    <tr>\n",
       "      <th>9704</th>\n",
       "      <td>11652</td>\n",
       "      <td>1</td>\n",
       "      <td>1382</td>\n",
       "      <td>502</td>\n",
       "      <td>1</td>\n",
       "      <td>22</td>\n",
       "      <td>16</td>\n",
       "      <td>5</td>\n",
       "      <td>2020</td>\n",
       "      <td>5</td>\n",
       "      <td>6</td>\n",
       "      <td>2020</td>\n",
       "      <td>2019-04-25</td>\n",
       "      <td>2019-04-24</td>\n",
       "      <td>payment before due date</td>\n",
       "    </tr>\n",
       "    <tr>\n",
       "      <th>9705</th>\n",
       "      <td>32781</td>\n",
       "      <td>5</td>\n",
       "      <td>219</td>\n",
       "      <td>503</td>\n",
       "      <td>1</td>\n",
       "      <td>55</td>\n",
       "      <td>21</td>\n",
       "      <td>5</td>\n",
       "      <td>2020</td>\n",
       "      <td>25</td>\n",
       "      <td>5</td>\n",
       "      <td>2020</td>\n",
       "      <td>2019-04-25</td>\n",
       "      <td>2019-04-26</td>\n",
       "      <td>0-15 Days</td>\n",
       "    </tr>\n",
       "  </tbody>\n",
       "</table>\n",
       "<p>9706 rows × 15 columns</p>\n",
       "</div>"
      ],
      "text/plain": [
       "      key_0  business_code_enc  cust_number_enc  posting_date_enc  \\\n",
       "0      8218                  1              735               421   \n",
       "1     41407                  1              735               421   \n",
       "2     44723                  1              878               421   \n",
       "3      5186                  1              456               421   \n",
       "4     41378                  1              783               421   \n",
       "...     ...                ...              ...               ...   \n",
       "9701  46674                  1              621               500   \n",
       "9702  15155                  1              877               501   \n",
       "9703  16607                  1              849               502   \n",
       "9704  11652                  1             1382               502   \n",
       "9705  32781                  5              219               503   \n",
       "\n",
       "      invoice_currency_enc  cust_payment_terms_enc  \\\n",
       "0                        1                      22   \n",
       "1                        1                      22   \n",
       "2                        1                      38   \n",
       "3                        1                      22   \n",
       "4                        1                      22   \n",
       "...                    ...                     ...   \n",
       "9701                     1                      11   \n",
       "9702                     1                      22   \n",
       "9703                     1                      34   \n",
       "9704                     1                      22   \n",
       "9705                     1                      55   \n",
       "\n",
       "      day_of_document_create_date  month_of_document_create_date  \\\n",
       "0                              27                              2   \n",
       "1                              27                              2   \n",
       "2                              26                              2   \n",
       "3                              25                              2   \n",
       "4                              26                              2   \n",
       "...                           ...                            ...   \n",
       "9701                           19                              5   \n",
       "9702                           19                              5   \n",
       "9703                           21                              5   \n",
       "9704                           16                              5   \n",
       "9705                           21                              5   \n",
       "\n",
       "      year_of_document_create_date  day_of_due_in_date  month_of_due_in_date  \\\n",
       "0                             2020                  13                     3   \n",
       "1                             2020                  13                     3   \n",
       "2                             2020                  13                     3   \n",
       "3                             2020                  13                     3   \n",
       "4                             2020                  13                     3   \n",
       "...                            ...                 ...                   ...   \n",
       "9701                          2020                  29                     5   \n",
       "9702                          2020                   4                     6   \n",
       "9703                          2020                  20                     6   \n",
       "9704                          2020                   5                     6   \n",
       "9705                          2020                  25                     5   \n",
       "\n",
       "      year_of_due_in_date due_in_date predicted_payment_date  \\\n",
       "0                    2020  2019-01-14             2019-01-13   \n",
       "1                    2020  2019-01-14             2019-01-13   \n",
       "2                    2020  2019-01-14             2019-01-15   \n",
       "3                    2020  2019-01-14             2019-01-13   \n",
       "4                    2020  2019-01-14             2019-01-13   \n",
       "...                   ...         ...                    ...   \n",
       "9701                 2020  2019-04-25             2019-04-15   \n",
       "9702                 2020  2019-04-25             2019-04-24   \n",
       "9703                 2020  2019-05-11             2019-05-01   \n",
       "9704                 2020  2019-04-25             2019-04-24   \n",
       "9705                 2020  2019-04-25             2019-04-26   \n",
       "\n",
       "                   Delay_days  \n",
       "0     payment before due date  \n",
       "1     payment before due date  \n",
       "2                   0-15 Days  \n",
       "3     payment before due date  \n",
       "4     payment before due date  \n",
       "...                       ...  \n",
       "9701  payment before due date  \n",
       "9702  payment before due date  \n",
       "9703  payment before due date  \n",
       "9704  payment before due date  \n",
       "9705                0-15 Days  \n",
       "\n",
       "[9706 rows x 15 columns]"
      ]
     },
     "execution_count": 82,
     "metadata": {},
     "output_type": "execute_result"
    }
   ],
   "source": [
    "Final = Final.drop(columns = [\"delay\",\"Delay\"])\n",
    "Final"
   ]
  },
  {
   "cell_type": "code",
   "execution_count": null,
   "id": "c0057fe8",
   "metadata": {},
   "outputs": [],
   "source": []
  }
 ],
 "metadata": {
  "kernelspec": {
   "display_name": "Python 3",
   "language": "python",
   "name": "python3"
  },
  "language_info": {
   "codemirror_mode": {
    "name": "ipython",
    "version": 3
   },
   "file_extension": ".py",
   "mimetype": "text/x-python",
   "name": "python",
   "nbconvert_exporter": "python",
   "pygments_lexer": "ipython3",
   "version": "3.7.7"
  }
 },
 "nbformat": 4,
 "nbformat_minor": 5
}
